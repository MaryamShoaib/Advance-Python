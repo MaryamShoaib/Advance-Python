{
 "cells": [
  {
   "cell_type": "markdown",
   "id": "284dbf33",
   "metadata": {},
   "source": [
    "Q1. Does assigning a value to a string's indexed character violate Python's string immutability?"
   ]
  },
  {
   "cell_type": "markdown",
   "id": "f235f266",
   "metadata": {},
   "source": [
    "Yes because of string immutability meaning we can not change the characters in string by assigning new values to indexes."
   ]
  },
  {
   "cell_type": "markdown",
   "id": "d35a90bc",
   "metadata": {},
   "source": [
    "Q2. Does using the += operator to concatenate strings violate Python's string immutability? Why or why not?"
   ]
  },
  {
   "cell_type": "markdown",
   "id": "dc54bc51",
   "metadata": {},
   "source": [
    "No. When we concatenate string, we assign new value to the same string variable. We are not altering string based on the indexes, so it won't violate Python's string immutability"
   ]
  },
  {
   "cell_type": "markdown",
   "id": "7d03261b",
   "metadata": {},
   "source": [
    "Q3. In Python, how many different ways are there to index a character?"
   ]
  },
  {
   "cell_type": "markdown",
   "id": "d9326d56",
   "metadata": {},
   "source": [
    "There are two methods for this, find() and index() both will return the lowest index at which char is found."
   ]
  },
  {
   "cell_type": "markdown",
   "id": "f71fd4ca",
   "metadata": {},
   "source": [
    "Q4. What is the relationship between indexing and slicing?"
   ]
  },
  {
   "cell_type": "markdown",
   "id": "f1d73c1a",
   "metadata": {},
   "source": [
    "Indexing is a way to access an element of a string by its position or index. Slicing is accessing only part of a string and not a full string. String slicing is done by using index"
   ]
  },
  {
   "cell_type": "code",
   "execution_count": 3,
   "id": "f676ae10",
   "metadata": {},
   "outputs": [
    {
     "name": "stdout",
     "output_type": "stream",
     "text": [
      "neu\n",
      "noru\n"
     ]
    }
   ],
   "source": [
    "s = 'ineuron'\n",
    "\n",
    "print(s[1:4])\n",
    "print(s[-1:2:-1])"
   ]
  },
  {
   "cell_type": "markdown",
   "id": "65eb5099",
   "metadata": {},
   "source": [
    "Q5. What is an indexed character's exact data type? What is the data form of a slicing-generated substring?"
   ]
  },
  {
   "cell_type": "markdown",
   "id": "649e2681",
   "metadata": {},
   "source": [
    "For both cases, it is 'str' type."
   ]
  },
  {
   "cell_type": "markdown",
   "id": "a2326b23",
   "metadata": {},
   "source": [
    "Q6. What is the relationship between string and character \"types\" in Python?"
   ]
  },
  {
   "cell_type": "markdown",
   "id": "45f13a26",
   "metadata": {},
   "source": [
    "In Python, There is no char data type, even a single character enclosed in doubble quotes is considered as str."
   ]
  },
  {
   "cell_type": "markdown",
   "id": "cdf12eb7",
   "metadata": {},
   "source": [
    "Q7. Identify at least two operators and one method that allow you to combine one or more smaller strings to create a larger string."
   ]
  },
  {
   "cell_type": "markdown",
   "id": "2e777835",
   "metadata": {},
   "source": [
    "\"+\" will concatenate two strings and \"*\" will repeat the string number of times mentioned. We can also use join() method for getting a larger string."
   ]
  },
  {
   "cell_type": "code",
   "execution_count": 9,
   "id": "f8ca5fe4",
   "metadata": {},
   "outputs": [
    {
     "name": "stdout",
     "output_type": "stream",
     "text": [
      "Hello!World\n",
      "SunSunSunSun\n",
      "How are you?\n"
     ]
    }
   ],
   "source": [
    "print(\"Hello!\" + 'World')\n",
    "\n",
    "print(\"Sun\" * 4)\n",
    "\n",
    "l = ['How', 'are', 'you?']\n",
    "\n",
    "s = ' '.join(l)\n",
    "\n",
    "print(s)"
   ]
  },
  {
   "cell_type": "markdown",
   "id": "f295aab3",
   "metadata": {},
   "source": [
    "Q8. What is the benefit of first checking the target string with in or not in before using the index method to find a substring?"
   ]
  },
  {
   "cell_type": "markdown",
   "id": "f2d1abf2",
   "metadata": {},
   "source": [
    "Normally, when we use index() method it will return the starting index of a substring, if substring is present in a string. But the major concern is if a substring is not present in a string, index() will return a ValueError."
   ]
  },
  {
   "cell_type": "code",
   "execution_count": 10,
   "id": "6260c84b",
   "metadata": {},
   "outputs": [
    {
     "ename": "ValueError",
     "evalue": "substring not found",
     "output_type": "error",
     "traceback": [
      "\u001b[1;31m---------------------------------------------------------------------------\u001b[0m",
      "\u001b[1;31mValueError\u001b[0m                                Traceback (most recent call last)",
      "Input \u001b[1;32mIn [10]\u001b[0m, in \u001b[0;36m<cell line: 8>\u001b[1;34m()\u001b[0m\n\u001b[0;32m      5\u001b[0m \u001b[38;5;28;01mif\u001b[39;00m s1 \u001b[38;5;129;01min\u001b[39;00m s:\n\u001b[0;32m      6\u001b[0m     \u001b[38;5;28mprint\u001b[39m(s\u001b[38;5;241m.\u001b[39mindex(s1))\n\u001b[1;32m----> 8\u001b[0m \u001b[43ms\u001b[49m\u001b[38;5;241;43m.\u001b[39;49m\u001b[43mindex\u001b[49m\u001b[43m(\u001b[49m\u001b[43ms1\u001b[49m\u001b[43m)\u001b[49m\n",
      "\u001b[1;31mValueError\u001b[0m: substring not found"
     ]
    }
   ],
   "source": [
    "s = 'abcdefghijk'\n",
    "\n",
    "s1 = 'xyz'\n",
    "\n",
    "if s1 in s:\n",
    "    print(s.index(s1))\n",
    "\n",
    "s.index(s1)"
   ]
  },
  {
   "cell_type": "markdown",
   "id": "71f3f023",
   "metadata": {},
   "source": [
    "To avoid this, we can first check the target string with in or not in before using the index method to find a substring."
   ]
  },
  {
   "cell_type": "markdown",
   "id": "4ae0529e",
   "metadata": {},
   "source": [
    "Q9. Which operators and built-in string methods produce simple Boolean (true/false) results?"
   ]
  },
  {
   "cell_type": "markdown",
   "id": "6b6a46b4",
   "metadata": {},
   "source": [
    "Operators:\n",
    "\n",
    "    1. Comparison operators : (== ,!= ,< ,> ,<=, >=) \n",
    "    2. Logical Operators : (and, or, not)\n",
    "    3. Identity Operators : (is , is not)\n",
    "    4. Membership Operators : (in, not in)\n",
    "\n",
    "String methods:\n",
    "\n",
    "    1. endswith() : Returns true if the string ends with the specified value \n",
    "    2. isalnum()\tReturns True if all characters in the string are alphanumeric        \n",
    "    3. isalpha()\tReturns True if all characters in the string are in the alphabet        \n",
    "    4. isdecimal()\tReturns True if all characters in the string are decimals       \n",
    "    5. isdigit()\tReturns True if all characters in the string are digits        \n",
    "    6. isidentifier()\tReturns True if the string is an identifier        \n",
    "    7. islower()\tReturns True if all characters in the string are lower case        \n",
    "    8. isnumeric()\tReturns True if all characters in the string are numeric        \n",
    "    9. isprintable()\tReturns True if all characters in the string are printable        \n",
    "    10. isspace()\tReturns True if all characters in the string are whitespaces        \n",
    "    11. istitle()\tReturns True if the string follows the rules of a title        \n",
    "    12. isupper()\tReturns True if all characters in the string are upper case"
   ]
  },
  {
   "cell_type": "code",
   "execution_count": null,
   "id": "cc9ca0f9",
   "metadata": {},
   "outputs": [],
   "source": []
  }
 ],
 "metadata": {
  "kernelspec": {
   "display_name": "Python 3 (ipykernel)",
   "language": "python",
   "name": "python3"
  },
  "language_info": {
   "codemirror_mode": {
    "name": "ipython",
    "version": 3
   },
   "file_extension": ".py",
   "mimetype": "text/x-python",
   "name": "python",
   "nbconvert_exporter": "python",
   "pygments_lexer": "ipython3",
   "version": "3.9.12"
  }
 },
 "nbformat": 4,
 "nbformat_minor": 5
}
