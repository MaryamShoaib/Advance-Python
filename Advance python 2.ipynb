{
 "cells": [
  {
   "cell_type": "markdown",
   "id": "ada119d4",
   "metadata": {},
   "source": [
    "Q1. What is the relationship between classes and modules?"
   ]
  },
  {
   "cell_type": "markdown",
   "id": "3483543e",
   "metadata": {},
   "source": [
    "A module is a file containing definitions and statements, while a class is a blueprint for creating objects. A module can contain one or more classes, along with functions and other objects. Therefore, the relationship between classes and modules is that classes can be defined inside a module.\n",
    "\n",
    "Classes can be imported from modules, allowing them to be used in other parts of a program. This makes modules a convenient way to organize related classes and functions into reusable code units.\n",
    "\n",
    "On the other hand, a module can also use classes defined in other modules. This is accomplished by importing the required classes from the other modules. In this way, modules provide a way to organize related classes and functions across multiple files."
   ]
  },
  {
   "cell_type": "markdown",
   "id": "482d1d3c",
   "metadata": {},
   "source": [
    "Q2. How do you make instances and classes?"
   ]
  },
  {
   "cell_type": "markdown",
   "id": "e11d2259",
   "metadata": {},
   "source": [
    "To create a class, we define a class name and use the class keyword followed by a colon, like this:"
   ]
  },
  {
   "cell_type": "code",
   "execution_count": 1,
   "id": "c70961f3",
   "metadata": {},
   "outputs": [],
   "source": [
    "class Hello():\n",
    "    pass"
   ]
  },
  {
   "attachments": {},
   "cell_type": "markdown",
   "id": "84799b16",
   "metadata": {},
   "source": [
    "Inside the class definition, we can define attributes and methods that define the behavior of the class. For example, we can define a __init__ method to initialize the instance variables of the class:"
   ]
  },
  {
   "cell_type": "code",
   "execution_count": 3,
   "id": "a107efcb",
   "metadata": {},
   "outputs": [],
   "source": [
    "class Hello():\n",
    "    def __init__(self,name):\n",
    "        self.name=name\n",
    "    "
   ]
  },
  {
   "cell_type": "code",
   "execution_count": 4,
   "id": "6dabe218",
   "metadata": {},
   "outputs": [],
   "source": [
    "hello_world=Hello(\"Earth\")"
   ]
  },
  {
   "cell_type": "code",
   "execution_count": 5,
   "id": "334f2162",
   "metadata": {},
   "outputs": [
    {
     "name": "stdout",
     "output_type": "stream",
     "text": [
      "Earth\n"
     ]
    }
   ],
   "source": [
    "print(hello_world.name)"
   ]
  },
  {
   "cell_type": "markdown",
   "id": "d2438545",
   "metadata": {},
   "source": [
    "Q3. Where and how should be class attributes created?"
   ]
  },
  {
   "cell_type": "markdown",
   "id": "a060d8d3",
   "metadata": {},
   "source": [
    "Class attributes belong to the class itself they will be shared by all the instances. Such attributes are defined in the class body parts usually at the top, for legibility."
   ]
  },
  {
   "cell_type": "code",
   "execution_count": 6,
   "id": "3b5aae43",
   "metadata": {},
   "outputs": [
    {
     "name": "stdout",
     "output_type": "stream",
     "text": [
      "Richard\n"
     ]
    }
   ],
   "source": [
    "class Student:\n",
    "    class_teacher = 'Richard' # class attribute\n",
    "    \n",
    "    def __init__(self,name, age): # to bind attributes to class when object is created\n",
    "        self.name = name \n",
    "        self.age = age\n",
    "    \n",
    "    def __str__(self):\n",
    "        return f\"This is {self.name} (an instance of a class Student)\"\n",
    "    \n",
    "student1 = Student(\"Maryam Shoaib\",32)  \n",
    "\n",
    "print(student1.class_teacher) "
   ]
  },
  {
   "cell_type": "markdown",
   "id": "cdd7186b",
   "metadata": {},
   "source": [
    "Q4. Where and how are instance attributes created?"
   ]
  },
  {
   "cell_type": "markdown",
   "id": "4a1df5d1",
   "metadata": {},
   "source": [
    "Unlike class attributes, instance attributes are not shared by objects. Every object has its own copy of the instance attribute. They are created in init method. "
   ]
  },
  {
   "cell_type": "code",
   "execution_count": 7,
   "id": "15050d74",
   "metadata": {},
   "outputs": [
    {
     "name": "stdout",
     "output_type": "stream",
     "text": [
      "Richard\n",
      "32\n"
     ]
    }
   ],
   "source": [
    "class Student:\n",
    "    class_teacher = 'Richard' # class attribute\n",
    "    \n",
    "    def __init__(self,name, age): # to bind attributes to class when object is created\n",
    "        self.name = name \n",
    "        self.age = age\n",
    "    \n",
    "    def __str__(self):\n",
    "        return f\"This is {self.name} (an instance of a class Student)\"\n",
    "    \n",
    "student1 = Student(\"Maryam Shoaib\",32)  \n",
    "\n",
    "print(student1.class_teacher) \n",
    "print(student1.age)"
   ]
  },
  {
   "cell_type": "markdown",
   "id": "bb9d1a8f",
   "metadata": {},
   "source": [
    "Q5. What does the term \"self\" in a Python class mean?"
   ]
  },
  {
   "cell_type": "markdown",
   "id": "06b18103",
   "metadata": {},
   "source": [
    "self is a special variable that refers to the instance of the class. It is the first parameter of any instance method defined in a class. The self parameter allows the instance of the class to access its own attributes and methods.\n",
    "\n",
    "When a method is called on an instance of a class, Python automatically passes the instance as the first argument to the method. By convention, this first parameter is nam"
   ]
  },
  {
   "cell_type": "markdown",
   "id": "283cb366",
   "metadata": {},
   "source": [
    "Q6. How does a Python class handle operator overloading?"
   ]
  },
  {
   "cell_type": "markdown",
   "id": "8763ad87",
   "metadata": {},
   "source": [
    "Operator Overloading means giving extended meaning beyond their predefined operational meaning. For example operator + is used to add two integers as well as join two strings and merge two lists. It is achievable because ‘+’ operator is overloaded by int class and str class."
   ]
  },
  {
   "cell_type": "code",
   "execution_count": 8,
   "id": "bbb42962",
   "metadata": {},
   "outputs": [
    {
     "name": "stdout",
     "output_type": "stream",
     "text": [
      "4\n",
      "HelloWorld\n",
      "30\n",
      "HelloHelloHelloHello\n"
     ]
    }
   ],
   "source": [
    "# + and * operator is used for different purpose\n",
    "\n",
    "print(2 + 2)\n",
    " \n",
    "# concatenate two strings\n",
    "print(\"Hello\"+\"World\")\n",
    " \n",
    "# Product two numbers\n",
    "print(10 * 3)\n",
    " \n",
    "# Repeat the String\n",
    "print(\"Hello\"*4)"
   ]
  },
  {
   "cell_type": "markdown",
   "id": "05151fb7",
   "metadata": {},
   "source": [
    "Q7. When do you consider allowing operator overloading of your classes?"
   ]
  },
  {
   "cell_type": "code",
   "execution_count": 9,
   "id": "d45b9c32",
   "metadata": {},
   "outputs": [
    {
     "ename": "TypeError",
     "evalue": "unsupported operand type(s) for +: 'String' and 'str'",
     "output_type": "error",
     "traceback": [
      "\u001b[1;31m---------------------------------------------------------------------------\u001b[0m",
      "\u001b[1;31mTypeError\u001b[0m                                 Traceback (most recent call last)",
      "Input \u001b[1;32mIn [9]\u001b[0m, in \u001b[0;36m<cell line: 9>\u001b[1;34m()\u001b[0m\n\u001b[0;32m      5\u001b[0m         \u001b[38;5;28;01mreturn\u001b[39;00m \u001b[38;5;124m'\u001b[39m\u001b[38;5;124mObject: \u001b[39m\u001b[38;5;132;01m{}\u001b[39;00m\u001b[38;5;124m'\u001b[39m\u001b[38;5;241m.\u001b[39mformat(\u001b[38;5;28mself\u001b[39m\u001b[38;5;241m.\u001b[39mstring)\n\u001b[0;32m      7\u001b[0m string1 \u001b[38;5;241m=\u001b[39m String(\u001b[38;5;124m'\u001b[39m\u001b[38;5;124mHello\u001b[39m\u001b[38;5;124m'\u001b[39m)   \n\u001b[1;32m----> 9\u001b[0m \u001b[38;5;28mprint\u001b[39m(\u001b[43mstring1\u001b[49m\u001b[43m \u001b[49m\u001b[38;5;241;43m+\u001b[39;49m\u001b[38;5;124;43m'\u001b[39;49m\u001b[38;5;124;43m world\u001b[39;49m\u001b[38;5;124;43m'\u001b[39;49m)\n",
      "\u001b[1;31mTypeError\u001b[0m: unsupported operand type(s) for +: 'String' and 'str'"
     ]
    }
   ],
   "source": [
    "class String:\n",
    "    def __init__(self, string):\n",
    "            self.string = string         \n",
    "    def __repr__(self):\n",
    "        return 'Object: {}'.format(self.string)\n",
    "\n",
    "string1 = String('Hello')   \n",
    "\n",
    "print(string1 +' world')"
   ]
  },
  {
   "cell_type": "markdown",
   "id": "742f40ab",
   "metadata": {},
   "source": [
    "This error can be avoided by adding the __ add__ method to the String class. This way, we are overloading the + operator to concatenate a string object with a string."
   ]
  },
  {
   "cell_type": "code",
   "execution_count": 10,
   "id": "b708acc6",
   "metadata": {},
   "outputs": [
    {
     "name": "stdout",
     "output_type": "stream",
     "text": [
      "Hello world\n"
     ]
    }
   ],
   "source": [
    "class String:\n",
    "    def __init__(self, string):\n",
    "            self.string = string         \n",
    "                \n",
    "    def __add__(self, other):\n",
    "          return self.string + other\n",
    "            \n",
    "    def __repr__(self):\n",
    "        return 'Object: {}'.format(self.string)\n",
    "\n",
    "string1 = String('Hello')    \n",
    "\n",
    "\n",
    "print(string1 +' world')"
   ]
  },
  {
   "cell_type": "markdown",
   "id": "3009de70",
   "metadata": {},
   "source": [
    "Q8. What is the most popular form of operator overloading?"
   ]
  },
  {
   "cell_type": "markdown",
   "id": "0d36fccf",
   "metadata": {},
   "source": [
    "Most popular form of operator overloading is of addition (+) operator. When two integers are passed to + operator, it will return the sum of two integers. When two strings are passed to + operator, it will return concatenation of two strings."
   ]
  },
  {
   "cell_type": "markdown",
   "id": "038bf21b",
   "metadata": {},
   "source": [
    "Q9. What are the two most important concepts to grasp in order to comprehend Python OOP code?"
   ]
  },
  {
   "cell_type": "markdown",
   "id": "97e88ba1",
   "metadata": {},
   "source": [
    "The two most important concepts are:\n",
    "1.Inheritance.\n",
    "2.Polymorphism."
   ]
  },
  {
   "cell_type": "code",
   "execution_count": null,
   "id": "66039736",
   "metadata": {},
   "outputs": [],
   "source": []
  }
 ],
 "metadata": {
  "kernelspec": {
   "display_name": "Python 3 (ipykernel)",
   "language": "python",
   "name": "python3"
  },
  "language_info": {
   "codemirror_mode": {
    "name": "ipython",
    "version": 3
   },
   "file_extension": ".py",
   "mimetype": "text/x-python",
   "name": "python",
   "nbconvert_exporter": "python",
   "pygments_lexer": "ipython3",
   "version": "3.9.12"
  }
 },
 "nbformat": 4,
 "nbformat_minor": 5
}
