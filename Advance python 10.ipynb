{
 "cells": [
  {
   "cell_type": "markdown",
   "id": "9356f5cb",
   "metadata": {},
   "source": [
    "Q1. What is the difference between getattr and getattribute?"
   ]
  },
  {
   "cell_type": "markdown",
   "id": "fc1a5571",
   "metadata": {},
   "source": [
    "Normally, if we want to access the attribute of a class, we access it with instance of the class like instance.attribute_name. These attributes are already present in the class. Where as, to access the attribute of class which are not defined in the class, we use getattr() method.\n",
    "\n",
    "But if the attribute does exist, getattr won’t be invoked"
   ]
  },
  {
   "cell_type": "code",
   "execution_count": 1,
   "id": "e4097212",
   "metadata": {},
   "outputs": [
    {
     "name": "stdout",
     "output_type": "stream",
     "text": [
      "Seattle\n",
      "abcd\n"
     ]
    }
   ],
   "source": [
    "class Sample:\n",
    "    def __init__(self,address):\n",
    "        self.address = address\n",
    "    \n",
    "    def __getattr__(self,name):\n",
    "        return name.lower()\n",
    "    \n",
    "s =Sample('Seattle')\n",
    "print(s.address) # existing attribute\n",
    "print(s.ABCD) # ABCD is non defined in class"
   ]
  },
  {
   "cell_type": "markdown",
   "id": "c31c4b4f",
   "metadata": {},
   "source": [
    "getattribute will look for every attribute, doesn’t matter if the attribute exists or not."
   ]
  },
  {
   "cell_type": "code",
   "execution_count": 2,
   "id": "00d059e7",
   "metadata": {},
   "outputs": [
    {
     "name": "stdout",
     "output_type": "stream",
     "text": [
      "New Value\n"
     ]
    }
   ],
   "source": [
    "class random():\n",
    "\n",
    "    def __getattribute__(self, attr):\n",
    "        return 'New Value'\n",
    "\n",
    "d = random()\n",
    "d.value = \"Old value\"\n",
    "print(d.value)  # \"YOU SEE ME?\""
   ]
  },
  {
   "cell_type": "markdown",
   "id": "33c653fd",
   "metadata": {},
   "source": [
    "Q2. What is the difference between properties and descriptors?"
   ]
  },
  {
   "cell_type": "markdown",
   "id": "f18e5f36",
   "metadata": {},
   "source": [
    "In Properties, we can bind getter, setter functions with an attribute name, using the built-in property function. In descriptor, we can bind getter, setter (and deleter) functions into a separate class. We then assign an object of this class to the attribute name."
   ]
  },
  {
   "cell_type": "markdown",
   "id": "4007d3bd",
   "metadata": {},
   "source": [
    "Q3. What are the key differences in functionality between getattr and getattribute, as well as properties and descriptors?"
   ]
  },
  {
   "cell_type": "markdown",
   "id": "34ef24a7",
   "metadata": {},
   "source": [
    "To access the attribute of class which are not defined in the class, we use getattr() method. But if the attribute does exist, getattr won’t be invoked. getattribute will look for every attribute, doesn’t matter if the attribute exists or not.\n",
    "\n",
    "In Properties, we can bind getter, setter functions with an attribute name, using the built-in property function. In descriptor, we can bind getter, setter (and deleter) functions into a separate class. We then assign an object of this class to the attribute name."
   ]
  },
  {
   "cell_type": "code",
   "execution_count": null,
   "id": "3478bafe",
   "metadata": {},
   "outputs": [],
   "source": []
  }
 ],
 "metadata": {
  "kernelspec": {
   "display_name": "Python 3 (ipykernel)",
   "language": "python",
   "name": "python3"
  },
  "language_info": {
   "codemirror_mode": {
    "name": "ipython",
    "version": 3
   },
   "file_extension": ".py",
   "mimetype": "text/x-python",
   "name": "python",
   "nbconvert_exporter": "python",
   "pygments_lexer": "ipython3",
   "version": "3.9.12"
  }
 },
 "nbformat": 4,
 "nbformat_minor": 5
}
