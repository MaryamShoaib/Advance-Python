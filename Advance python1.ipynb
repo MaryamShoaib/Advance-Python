{
 "cells": [
  {
   "cell_type": "markdown",
   "id": "e4355d25",
   "metadata": {},
   "source": [
    "Q1. What is the purpose of Python&#39;s OOP?"
   ]
  },
  {
   "cell_type": "markdown",
   "id": "a80e095f",
   "metadata": {},
   "source": [
    "The following are the purpose of Python's OOP:\n",
    "1. It provide clear program structure and clean code\n",
    "2. It facilitates easy maintenance and modification of existing code\n",
    "3. The class is shareable, the code is reusable"
   ]
  },
  {
   "cell_type": "markdown",
   "id": "f32557f2",
   "metadata": {},
   "source": [
    "Q2. Where does an inheritance search look for an attribute?"
   ]
  },
  {
   "cell_type": "markdown",
   "id": "45473673",
   "metadata": {},
   "source": [
    "Attribute fetches are simply tree searches. The term inheritance is applied because objects lower in a tree inherit attributes attached to objects higher in that tree. As the search proceeds from the bottom up, in a sense, the objects linked into a tree are the union of all the attributes defined in all their tree parents, all the way up the tree.\n"
   ]
  },
  {
   "cell_type": "markdown",
   "id": "ea14c500",
   "metadata": {},
   "source": [
    "Q3. How do you distinguish between a class object and an instance object?"
   ]
  },
  {
   "cell_type": "markdown",
   "id": "03ba5356",
   "metadata": {},
   "source": [
    " Object is a generic term , it is physically present but remains undiferrentiated. It is the physical entity for which memory is allocated. An object contains many instances. However, instance is something that gives them a separate identity. It  is also the physical manifestation of a class that occupies memory and has data members. For example, there is class mobile, when an object is created m = mobile(), m is object. When we create different object with different specifications(mobile name, type, company) such as iphone8, s20, pixel, A13 are called as instances which actually exists."
   ]
  },
  {
   "cell_type": "markdown",
   "id": "22350038",
   "metadata": {},
   "source": [
    "Q4. What makes the first argument in a class’s method function special?"
   ]
  },
  {
   "cell_type": "markdown",
   "id": "7d3461c5",
   "metadata": {},
   "source": [
    "Self represents the instance of the class. By using the “self” keyword we can access the attributes and methods of the class in python. It binds the attributes with the given arguments. Python decided to do methods in a way that makes the instance to which the method belongs be passed automatically, but not received automatically: the first parameter of methods is the instance the method is called on."
   ]
  },
  {
   "cell_type": "markdown",
   "id": "1c2ba5a9",
   "metadata": {},
   "source": [
    "Q5. What is the purpose of the init method?"
   ]
  },
  {
   "cell_type": "markdown",
   "id": "b5843670",
   "metadata": {},
   "source": [
    "The task of init method is to initialize(assign values) to the data members of the class when an object of class is created. It contains collection of statements that are executed at time of Object creation. It is run as soon as an object of a class is instantiated. The method is useful to do any initialization you want to do with your object."
   ]
  },
  {
   "cell_type": "markdown",
   "id": "5e702628",
   "metadata": {},
   "source": [
    "Q6. What is the process for creating a class instance?"
   ]
  },
  {
   "cell_type": "markdown",
   "id": "5e7f2800",
   "metadata": {},
   "source": [
    "To create instances of a class, you call the class using class name and pass in whatever arguments its init method accepts."
   ]
  },
  {
   "cell_type": "markdown",
   "id": "e66ef982",
   "metadata": {},
   "source": [
    "Q7. What is the process for creating a class?"
   ]
  },
  {
   "cell_type": "markdown",
   "id": "ca7e91ad",
   "metadata": {},
   "source": [
    "The class statement creates a new class definition. The name of the class immediately follows the keyword class followed by a colon."
   ]
  },
  {
   "cell_type": "code",
   "execution_count": 3,
   "id": "9a35634d",
   "metadata": {},
   "outputs": [
    {
     "name": "stdout",
     "output_type": "stream",
     "text": [
      "This is Maryam Shoaib (an instance of a class Student)\n"
     ]
    }
   ],
   "source": [
    "#Example\n",
    "class Student:\n",
    "    def __init__(self,name):\n",
    "        self.name = name\n",
    "    \n",
    "    def __str__(self):\n",
    "        return f\"This is {self.name} (an instance of a class Student)\"\n",
    "    \n",
    "student1 = Student(\"Maryam Shoaib\")       \n",
    "print(student1)"
   ]
  },
  {
   "cell_type": "markdown",
   "id": "7db0a1e0",
   "metadata": {},
   "source": [
    "Q8. How would you define the superclasses of a class?"
   ]
  },
  {
   "cell_type": "code",
   "execution_count": 7,
   "id": "ef8d779c",
   "metadata": {},
   "outputs": [
    {
     "name": "stdout",
     "output_type": "stream",
     "text": [
      "A is a superclass\n",
      "B is a subclass\n"
     ]
    }
   ],
   "source": [
    "class A:\n",
    "    def method_A(self):\n",
    "        return \"A is a superclass\"\n",
    "    \n",
    "class B(A):\n",
    "    def method_B(self):\n",
    "        return \"B is a subclass\"\n",
    "\n",
    "# Class B is a subclass and Class A is superclass    \n",
    "a = A()\n",
    "b = B()\n",
    "\n",
    "print(a.method_A())\n",
    "print(b.method_B())"
   ]
  },
  {
   "cell_type": "code",
   "execution_count": null,
   "id": "f8cc2a3e",
   "metadata": {},
   "outputs": [],
   "source": []
  }
 ],
 "metadata": {
  "kernelspec": {
   "display_name": "Python 3 (ipykernel)",
   "language": "python",
   "name": "python3"
  },
  "language_info": {
   "codemirror_mode": {
    "name": "ipython",
    "version": 3
   },
   "file_extension": ".py",
   "mimetype": "text/x-python",
   "name": "python",
   "nbconvert_exporter": "python",
   "pygments_lexer": "ipython3",
   "version": "3.9.12"
  }
 },
 "nbformat": 4,
 "nbformat_minor": 5
}
