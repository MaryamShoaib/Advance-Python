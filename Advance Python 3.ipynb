{
 "cells": [
  {
   "cell_type": "markdown",
   "id": "51701c5e",
   "metadata": {},
   "source": [
    "1. What is the concept of an abstract superclass?"
   ]
  },
  {
   "cell_type": "markdown",
   "id": "0f59dfe9",
   "metadata": {},
   "source": [
    "The 'abc' module in Python library provides the infrastructure for defining custom abstract base classes.\n",
    "\n",
    "'abc' works by marking methods of the base class as abstract. This is done by @absttractmethod decorator. A concrete class which is a sub class of such abstract base class then implements the abstract base by overriding its abstract methods.\n",
    "\n",
    "The abc module defines ABCMeta class which is a metaclass for defining abstract base class. Following example defines Shape class as an abstract base class using ABCMeta. The shape class has area() method decorated by abstractmethod.\n",
    "\n",
    "A Square class now uses above Shape class as its parent and implementing the abstract area() method. Since it is a concrete class, it can be instantiated and implemented area() method can be called."
   ]
  },
  {
   "cell_type": "code",
   "execution_count": 2,
   "id": "0ead9f43",
   "metadata": {},
   "outputs": [
    {
     "name": "stdout",
     "output_type": "stream",
     "text": [
      "area:  25\n"
     ]
    }
   ],
   "source": [
    "import abc\n",
    "\n",
    "class Shape(metaclass=abc.ABCMeta):\n",
    "    @abc.abstractmethod\n",
    "    def area(self):\n",
    "        pass\n",
    "\n",
    "class Square(Shape):\n",
    "    def __init__(self, x,y):\n",
    "        self.l = x\n",
    "        self.b=y\n",
    "    \n",
    "    def area(self):\n",
    "        return self.l*self.b\n",
    "    \n",
    "r = Square(5,5)\n",
    "print ('area: ',r.area())"
   ]
  },
  {
   "cell_type": "markdown",
   "id": "1eae46fa",
   "metadata": {},
   "source": [
    "Q2. What happens when a class statement's top level contains a basic assignment statement?"
   ]
  },
  {
   "cell_type": "markdown",
   "id": "93a3547e",
   "metadata": {},
   "source": [
    "When class statement's top level contains a basic assignment statement, it is considered as class attribute. Change in the value of class attribute will affect all the instances of the class."
   ]
  },
  {
   "cell_type": "code",
   "execution_count": 5,
   "id": "6e211060",
   "metadata": {},
   "outputs": [
    {
     "name": "stdout",
     "output_type": "stream",
     "text": [
      "234\n",
      "5\n",
      "7\n",
      "897\n",
      "897\n"
     ]
    }
   ],
   "source": [
    "class Sample:\n",
    "    random_value = 234\n",
    "    \n",
    "    def __init__(self, value1):\n",
    "        self.value1 = value1\n",
    "        \n",
    "s = Sample(5)       \n",
    "s1 = Sample(7)\n",
    "\n",
    "print(s.random_value)\n",
    "print(s.value1)\n",
    "print(s1.value1)\n",
    "\n",
    "Sample.random_value = 897\n",
    "print(s.random_value) #observe value is changed for both the objects\n",
    "print(s1.random_value)"
   ]
  },
  {
   "cell_type": "markdown",
   "id": "2e6b9fa8",
   "metadata": {},
   "source": [
    "Q3. Why does a class need to manually call a superclass's init method?"
   ]
  },
  {
   "cell_type": "markdown",
   "id": "4f194175",
   "metadata": {},
   "source": [
    "We can access those methods of the super-class (parent class) which have been overridden in a sub-class (child class) that inherits from it."
   ]
  },
  {
   "cell_type": "markdown",
   "id": "6a292dda",
   "metadata": {},
   "source": [
    "Q4. How can you augment, instead of completely replacing, an inherited method?"
   ]
  },
  {
   "cell_type": "markdown",
   "id": "04c933a4",
   "metadata": {},
   "source": [
    "We can do it by calling to the original version directly, with augmented arguments."
   ]
  },
  {
   "cell_type": "markdown",
   "id": "e591eefd",
   "metadata": {},
   "source": [
    "Q5. How is the local scope of a class different from that of a function?"
   ]
  },
  {
   "cell_type": "markdown",
   "id": "f37d9d8c",
   "metadata": {},
   "source": [
    "In class, if the variable is declared without self then it is accessible within that function only, kinda local variable. However if it declared using self like self.variable_name = 'value', then it is accessible via any object but not via the class name. However, if a variable is declared within a function then it is a local variable and is accessible to that function only."
   ]
  },
  {
   "cell_type": "code",
   "execution_count": null,
   "id": "3429e6d6",
   "metadata": {},
   "outputs": [],
   "source": []
  }
 ],
 "metadata": {
  "kernelspec": {
   "display_name": "Python 3 (ipykernel)",
   "language": "python",
   "name": "python3"
  },
  "language_info": {
   "codemirror_mode": {
    "name": "ipython",
    "version": 3
   },
   "file_extension": ".py",
   "mimetype": "text/x-python",
   "name": "python",
   "nbconvert_exporter": "python",
   "pygments_lexer": "ipython3",
   "version": "3.9.12"
  }
 },
 "nbformat": 4,
 "nbformat_minor": 5
}
