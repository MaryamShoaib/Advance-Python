{
 "cells": [
  {
   "cell_type": "markdown",
   "id": "54607d22",
   "metadata": {},
   "source": [
    "Q1. Define the relationship between a class and its instances. Is it a one-to-one or a one-to-many partnership, for example?"
   ]
  },
  {
   "cell_type": "markdown",
   "id": "f8c364cf",
   "metadata": {},
   "source": [
    "Class is abstraction of an real world entity. It consists of attributes and methods. Instance is an object of a class. It one to many relationship between class and its instatnces."
   ]
  },
  {
   "cell_type": "markdown",
   "id": "61bf64ee",
   "metadata": {},
   "source": [
    "Q2. What kind of data is held only in an instance?"
   ]
  },
  {
   "cell_type": "markdown",
   "id": "706acc7e",
   "metadata": {},
   "source": [
    "Instance objects contains the Instance variables which are specific to that specific Instance object."
   ]
  },
  {
   "cell_type": "markdown",
   "id": "46b56c02",
   "metadata": {},
   "source": [
    "Q3. What kind of knowledge is stored in a class?"
   ]
  },
  {
   "cell_type": "markdown",
   "id": "4b9b36ec",
   "metadata": {},
   "source": [
    "Class creates a user-defined data structure, which holds its own data members and member functions,which can be accessed and used by creating an instance of that class. A class is like a blueprint for an object. "
   ]
  },
  {
   "cell_type": "markdown",
   "id": "6b07d882",
   "metadata": {},
   "source": [
    "Q4. What exactly is a method, and how is it different from a regular function?"
   ]
  },
  {
   "cell_type": "markdown",
   "id": "e2cbd34f",
   "metadata": {},
   "source": [
    "The methods with a class can be used to access the insatnce variables of its instance. So, the object's state can be modified by its method.Function cant access the attributes of an instance of a class or cant modify the state of the object."
   ]
  },
  {
   "cell_type": "markdown",
   "id": "1d205c0a",
   "metadata": {},
   "source": [
    "Q5. Is inheritance supported in Python, and if so, what is the syntax?"
   ]
  },
  {
   "cell_type": "code",
   "execution_count": 1,
   "id": "b71f77e9",
   "metadata": {},
   "outputs": [
    {
     "name": "stdout",
     "output_type": "stream",
     "text": [
      "Class of Instance: <class '__main__.B'>\n",
      "Base class: (<class '__main__.A'>,)\n"
     ]
    }
   ],
   "source": [
    "class A:\n",
    "        var=1\n",
    "        def __init__(self):\n",
    "            pass\n",
    "class B(A): # class B is detived from class A\n",
    "    def __init__(self):\n",
    "        super().__init__()\n",
    "c=B()\n",
    "print(\"Class of Instance:\",c.__class__)\n",
    "print(\"Base class:\",c.__class__.__bases__)"
   ]
  },
  {
   "cell_type": "markdown",
   "id": "183dc739",
   "metadata": {},
   "source": [
    "Q6. How much encapsulation (making instance or class variables private) does Python support?"
   ]
  },
  {
   "cell_type": "markdown",
   "id": "92962a29",
   "metadata": {},
   "source": [
    "Encapsulation prevents from accessing accidentally, but not intentionally. The private attributes and methods are not really hidden. The private attributes can be accessed within the object method."
   ]
  },
  {
   "cell_type": "markdown",
   "id": "c4b20e01",
   "metadata": {},
   "source": [
    "Q7. How do you distinguish between a class variable and an instance variable?"
   ]
  },
  {
   "cell_type": "markdown",
   "id": "c20c9b4f",
   "metadata": {},
   "source": [
    "The class attribute is available to all the instance objects of that class. Instance variable is accessible only to the object or Instance of that class."
   ]
  },
  {
   "cell_type": "markdown",
   "id": "88cb4a91",
   "metadata": {},
   "source": [
    "Q8. When, if ever, can self be included in a class's method definitions?"
   ]
  },
  {
   "cell_type": "markdown",
   "id": "c8faa4cb",
   "metadata": {},
   "source": [
    "Self can included to access the class variables and instance variiables."
   ]
  },
  {
   "cell_type": "markdown",
   "id": "4f5397c8",
   "metadata": {},
   "source": [
    "Q9. What is the difference between the _ add _ and the _ radd _ methods?"
   ]
  },
  {
   "cell_type": "markdown",
   "id": "34d0f2b4",
   "metadata": {},
   "source": [
    "When you add two numbers using the + operator, internally, the __add__() method will be called.We can overload this method to perform"
   ]
  },
  {
   "cell_type": "markdown",
   "id": "f6b7dd2e",
   "metadata": {},
   "source": [
    "Q10. When is it necessary to use a reflection method? When do you not need it, even though you support the operation in question?"
   ]
  },
  {
   "cell_type": "markdown",
   "id": "59678f72",
   "metadata": {},
   "source": [
    "Suppose we are implementing a class that you want to act like a number via operator overloading.So we implement __add__ in your class, and now expressions like obj + 10 is acceptable.This is because obj + 10 is interpreted as obj.__add__(10), and the custom method __add__ can do whatever it means to add 10 to custom class. However, what about an expression like 10 + obj which is really (10).__add__(myobj)? The 10 is an instance of a Python built-in type and its __add__ method doesn't know anything  about the new type,obj, so it will return a error NotImplemented. To handle such scenarios, __radd__ is used. Python will first try (10).__add__(myobj), and if that returns NotImplemented, Python will check if the right-hand operand implements __radd__, and if it does, it will call obj.__radd__(10) rather than raising a TypeError."
   ]
  },
  {
   "cell_type": "markdown",
   "id": "01289a95",
   "metadata": {},
   "source": [
    "Q11. What is the _ iadd _ method called?"
   ]
  },
  {
   "cell_type": "code",
   "execution_count": 2,
   "id": "8a31a7ca",
   "metadata": {},
   "outputs": [
    {
     "name": "stdout",
     "output_type": "stream",
     "text": [
      "5\n"
     ]
    }
   ],
   "source": [
    "class A:\n",
    "    def __init__(self,x):\n",
    "        self.x=x\n",
    "    def __iadd__(self,other):\n",
    "        self.x += other.x\n",
    "        return self.x\n",
    "obj1=A(2)\n",
    "obj2=A(3)\n",
    "obj1+=obj2\n",
    "print(obj1)"
   ]
  },
  {
   "cell_type": "markdown",
   "id": "8957b7e0",
   "metadata": {},
   "source": [
    "Q12. Is the _ init _ method inherited by subclasses? What do you do if you need to customize its behavior within a subclass?"
   ]
  },
  {
   "cell_type": "markdown",
   "id": "bbe3a7c1",
   "metadata": {},
   "source": [
    " __init__ method is inherited by its subclass. But it can be overloaded, to customize it"
   ]
  },
  {
   "cell_type": "code",
   "execution_count": 4,
   "id": "a826bef6",
   "metadata": {},
   "outputs": [
    {
     "data": {
      "text/plain": [
       "10"
      ]
     },
     "execution_count": 4,
     "metadata": {},
     "output_type": "execute_result"
    }
   ],
   "source": [
    "class A:\n",
    "    def __init__(self,x):\n",
    "        self.x=x\n",
    "class B(A):\n",
    "    pass\n",
    "obj=B(2)\n",
    "obj.x \n",
    "#        here the value x is accessible to instance of class B which is subclass of class A.This means\n",
    "#        __init__ of class A is inherited in sub class B\n",
    "class C(A):\n",
    "    def __init__(self,x,y): # Here we are overloading the __init__ inherited from class A \n",
    "        self.x=x\n",
    "        self.y=y\n",
    "    def func(self):\n",
    "        return(self.x + self.y)\n",
    "obj1=C(6\n",
    "       ,4)\n",
    "obj1.func()"
   ]
  },
  {
   "cell_type": "code",
   "execution_count": null,
   "id": "d697637a",
   "metadata": {},
   "outputs": [],
   "source": []
  }
 ],
 "metadata": {
  "kernelspec": {
   "display_name": "Python 3 (ipykernel)",
   "language": "python",
   "name": "python3"
  },
  "language_info": {
   "codemirror_mode": {
    "name": "ipython",
    "version": 3
   },
   "file_extension": ".py",
   "mimetype": "text/x-python",
   "name": "python",
   "nbconvert_exporter": "python",
   "pygments_lexer": "ipython3",
   "version": "3.9.12"
  }
 },
 "nbformat": 4,
 "nbformat_minor": 5
}
